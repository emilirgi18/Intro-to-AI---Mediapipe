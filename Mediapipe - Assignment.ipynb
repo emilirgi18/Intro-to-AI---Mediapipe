{
 "cells": [
  {
   "cell_type": "markdown",
   "id": "b162b553",
   "metadata": {},
   "source": [
    "# Preparation\n",
    "\n",
    "Pertama, kita install dulu semua library yang kita butuhin:\n",
    "\n",
    "- mediapipe\n",
    "- opencv-python"
   ]
  },
  {
   "cell_type": "code",
   "execution_count": 1,
   "id": "f56e550a",
   "metadata": {},
   "outputs": [
    {
     "name": "stdout",
     "output_type": "stream",
     "text": [
      "Requirement already satisfied: mediapipe in e:\\python\\lib\\site-packages (0.8.10)\n",
      "Requirement already satisfied: opencv-python in e:\\python\\lib\\site-packages (4.6.0.66)\n",
      "Requirement already satisfied: protobuf>=3.11.4 in e:\\python\\lib\\site-packages (from mediapipe) (3.20.0)\n",
      "Requirement already satisfied: absl-py in e:\\python\\lib\\site-packages (from mediapipe) (1.1.0)\n",
      "Requirement already satisfied: matplotlib in e:\\python\\lib\\site-packages (from mediapipe) (3.4.3)\n",
      "Requirement already satisfied: attrs>=19.1.0 in e:\\python\\lib\\site-packages (from mediapipe) (21.2.0)\n",
      "Requirement already satisfied: opencv-contrib-python in e:\\python\\lib\\site-packages (from mediapipe) (4.6.0.66)\n",
      "Requirement already satisfied: numpy in e:\\python\\lib\\site-packages (from mediapipe) (1.21.2)\n",
      "Requirement already satisfied: kiwisolver>=1.0.1 in e:\\python\\lib\\site-packages (from matplotlib->mediapipe) (1.3.2)\n",
      "Requirement already satisfied: cycler>=0.10 in e:\\python\\lib\\site-packages (from matplotlib->mediapipe) (0.10.0)\n",
      "Requirement already satisfied: python-dateutil>=2.7 in e:\\python\\lib\\site-packages (from matplotlib->mediapipe) (2.8.2)\n",
      "Requirement already satisfied: pyparsing>=2.2.1 in e:\\python\\lib\\site-packages (from matplotlib->mediapipe) (2.4.7)\n",
      "Requirement already satisfied: pillow>=6.2.0 in e:\\python\\lib\\site-packages (from matplotlib->mediapipe) (8.3.2)\n",
      "Requirement already satisfied: six in e:\\python\\lib\\site-packages (from cycler>=0.10->matplotlib->mediapipe) (1.16.0)\n"
     ]
    },
    {
     "name": "stderr",
     "output_type": "stream",
     "text": [
      "WARNING: Ignoring invalid distribution -rotobuf (e:\\python\\lib\\site-packages)\n",
      "WARNING: Ignoring invalid distribution -ip (e:\\python\\lib\\site-packages)\n",
      "WARNING: Ignoring invalid distribution -rotobuf (e:\\python\\lib\\site-packages)\n",
      "WARNING: Ignoring invalid distribution -ip (e:\\python\\lib\\site-packages)\n",
      "WARNING: Ignoring invalid distribution -rotobuf (e:\\python\\lib\\site-packages)\n",
      "WARNING: Ignoring invalid distribution -ip (e:\\python\\lib\\site-packages)\n",
      "WARNING: Ignoring invalid distribution -rotobuf (e:\\python\\lib\\site-packages)\n",
      "WARNING: Ignoring invalid distribution -ip (e:\\python\\lib\\site-packages)\n",
      "WARNING: Ignoring invalid distribution -rotobuf (e:\\python\\lib\\site-packages)\n",
      "WARNING: Ignoring invalid distribution -ip (e:\\python\\lib\\site-packages)\n",
      "WARNING: Ignoring invalid distribution -rotobuf (e:\\python\\lib\\site-packages)\n",
      "WARNING: Ignoring invalid distribution -ip (e:\\python\\lib\\site-packages)\n"
     ]
    }
   ],
   "source": [
    "!pip install mediapipe opencv-python"
   ]
  },
  {
   "cell_type": "markdown",
   "id": "2a01e631",
   "metadata": {},
   "source": [
    "Setelah itu, kita import librarynya"
   ]
  },
  {
   "cell_type": "code",
   "execution_count": 2,
   "id": "e09895f8",
   "metadata": {},
   "outputs": [],
   "source": [
    "import cv2\n",
    "import mediapipe as mp\n",
    "import numpy as np\n",
    "from IPython.display import YouTubeVideo\n",
    "mp_drawing = mp.solutions.drawing_utils\n",
    "mp_pose = mp.solutions.pose"
   ]
  },
  {
   "cell_type": "markdown",
   "id": "5ea54488",
   "metadata": {},
   "source": [
    "Sekarang kita tes dulu apakah kameranya bisa digunakan atau tidak.."
   ]
  },
  {
   "cell_type": "code",
   "execution_count": 3,
   "id": "500c6cf2",
   "metadata": {},
   "outputs": [],
   "source": [
    "cap = cv2.VideoCapture(0)\n",
    "while cap.isOpened():\n",
    "    ret, frame = cap.read()\n",
    "    cv2.imshow('Mediapipe Feed', frame)\n",
    "    \n",
    "    if cv2.waitKey(10) & 0xFF == ord('q'):\n",
    "        break\n",
    "        \n",
    "cap.release()\n",
    "cv2.destroyAllWindows()\n",
    "\n",
    "## Tutup kamera dengan pencet tombol Q"
   ]
  },
  {
   "cell_type": "markdown",
   "id": "9d54b7df",
   "metadata": {},
   "source": [
    "# Introduction\n",
    "\n",
    "Pada assignment ini, saya ingin coba untuk implementasi apakah seseorang bisa mengikuti 3 pose pada perkenalan diri (Jikoshoukai) Ella JKT48 atau tidak. Berikut adalah perkenalan diri Ella JKT48:"
   ]
  },
  {
   "cell_type": "code",
   "execution_count": 4,
   "id": "97c73c99",
   "metadata": {
    "scrolled": true
   },
   "outputs": [
    {
     "data": {
      "image/jpeg": "[encoded data removed]",
      "text/html": [
       "\n",
       "        <iframe\n",
       "            width=\"854\"\n",
       "            height=\"480\"\n",
       "            src=\"https://www.youtube.com/embed/pTPnmyzkBUw\"\n",
       "            frameborder=\"0\"\n",
       "            allowfullscreen\n",
       "            \n",
       "        ></iframe>\n",
       "        "
      ],
      "text/plain": [
       "<IPython.lib.display.YouTubeVideo at 0x225e3049d90>"
      ]
     },
     "execution_count": 4,
     "metadata": {},
     "output_type": "execute_result"
    }
   ],
   "source": [
    "YouTubeVideo('pTPnmyzkBUw', width=854, height=480)"
   ]
  },
  {
   "cell_type": "markdown",
   "id": "392d8c5c",
   "metadata": {},
   "source": [
    "Dari video di atas, kita bisa lihat ada 3 pose yang dilakukan oleh Ella JKT48 ketika dia memperkenalkan dirinya:\n",
    "- Ohayo, dengan tangan diangkat serong ke kanan atas dengan telapak tangan dibuka,\n",
    "- Konnichiwa, dengan tangan kanan dikepalkan dan bertumpu pada pinggang,\n",
    "- Oyasumi, dengan telapak tangan dibuka lebar dan ditempelkan pada pipi kanan, lengan ditempelkan pada tubuh.\n",
    "\n",
    "\n",
    "Berdasarkan 3 pose itu, ada beberapa titik yang kita harus hitung sudutnya untuk mendapatkan akurasi perkenalan diri Ella JKT48 (lihat gambar di bawah):\n",
    "- Ohayo, membutuhkan sudut ≈180° di titik 14 dan sudut 150°<x<170° di titik 12,\n",
    "- Konnichiwa, membutuhkan sudut 100°<x<130° di titik 14 dan sudut 120°<x<130° di titik 12,\n",
    "- Oyasumi, membutuhkan sudut <40° di titik 14 dan sudut 100°<x<130° di titik 12.\n",
    "\n",
    "Namun untuk mentrigger ketiga pose tersebut, tangan kiri harus ikut berpose memegang microphone dengan sudut 10°<x<50° di titik 13 dan 90°<x<130° di titik 11."
   ]
  },
  {
   "cell_type": "markdown",
   "id": "842c6b45",
   "metadata": {},
   "source": [
    "<img src=\"https://i.imgur.com/3j8BPdc.png\" style=\"height:300px\" >"
   ]
  },
  {
   "cell_type": "markdown",
   "id": "4064a4b3",
   "metadata": {},
   "source": [
    "# Calculation\n",
    "\n",
    "Pertama, kita harus menghitung dulu sudut pada sebuah titik dengan rumus berikut:"
   ]
  },
  {
   "cell_type": "code",
   "execution_count": 5,
   "id": "69659fc8",
   "metadata": {},
   "outputs": [],
   "source": [
    "def calculate_angle(a,b,c):\n",
    "    a = np.array(a) # First\n",
    "    b = np.array(b) # Mid\n",
    "    c = np.array(c) # End\n",
    "    \n",
    "    radians = np.arctan2(c[1]-b[1], c[0]-b[0]) - np.arctan2(a[1]-b[1], a[0]-b[0])\n",
    "    angle = np.abs(radians*180.0/np.pi)\n",
    "    \n",
    "    if angle >180.0:\n",
    "        angle = 360-angle\n",
    "        \n",
    "    return angle "
   ]
  },
  {
   "cell_type": "markdown",
   "id": "49583a00",
   "metadata": {},
   "source": [
    "# Video capture, rendering calculation, and render stage state\n",
    "\n",
    "Kita create dulu mediapipe instance yang akan kita sebut sebagai pose. Nah di dalam instance ini akan ada proses yang berulang (loop) selagi webcam kita masih terbuka.\n",
    "\n",
    "Lalu di dalam loop ini, proses berikut akan terus berulang hingga kita pencet tombol Q untuk menutup jendela webcamnya:\n",
    "\n",
    "1. Kita ambil dulu frame dari webcamnya.\n",
    "2. Kita konversi gambar frame tersebut dari BGR ke RGB (konvensi dari openCV, defaultnya adalah BGR) dan dimasukkan ke variabel image\n",
    "3. Kita proses dan deteksi \"skeleton\" dari gambar tadi dan dimasukkan ke variabel results\n",
    "4. Image kita kembalikan dari RGB ke BGR\n",
    "5. Kita coba ekstrak landmark yang ada di results, dan jika tidak berhasil, maka akan lompat ke langkah berikutnya:\n",
    "\n",
    "        a. Kita ambil semua landmark di results dan masukkan ke variable landmarks\n",
    "        b. Kita ambil semua koordinat landmark yang kita butuhin (bahu kiri dan kanan, siku kiri dan kanan, pergelangan tangan kiri dan kanan)\n",
    "        c. Kita hitung sudut pada titik 11, 12, 13, dan 14\n",
    "        d. Kita render sudut di masing-masing titik\n",
    "        e. Kita ganti state dari stage sesuai sudut-sudut yang terkalkulasi sebelumnya sesuai dengan logika yang ada di bawah\n",
    "6. Kita render sebuah kotak, tulisan stage, dan stage statenya\n",
    "7. Kita render seluruh landmark yang sudah kita \"kerjakan\" sebelumnya\n",
    "8. Tampilkan dalam window\n",
    "9. Ulangi proses hingga user/kita menekan tombol q\n",
    "\n",
    "<img src=\"https://github.com/emilirgi18/Intro-to-AI---Mediapipe/blob/main/Untitled%20Diagram.drawio.png?raw=true\">"
   ]
  },
  {
   "cell_type": "code",
   "execution_count": 6,
   "id": "79759323",
   "metadata": {},
   "outputs": [],
   "source": [
    "cap = cv2.VideoCapture(0)\n",
    "## Setup mediapipe instance\n",
    "stage = None\n",
    "\n",
    "with mp_pose.Pose(min_detection_confidence=0.5, min_tracking_confidence=0.5) as pose:\n",
    "    while cap.isOpened():\n",
    "        ret, frame = cap.read()\n",
    "        \n",
    "        # Recolor image to RGB\n",
    "        image = cv2.cvtColor(frame, cv2.COLOR_BGR2RGB)\n",
    "        image.flags.writeable = False\n",
    "      \n",
    "        # Make detection\n",
    "        results = pose.process(image)\n",
    "    \n",
    "        # Recolor back to BGR\n",
    "        image.flags.writeable = True\n",
    "        image = cv2.cvtColor(image, cv2.COLOR_RGB2BGR)\n",
    "        \n",
    "        # Extract landmarks\n",
    "        try:\n",
    "            landmarks = results.pose_landmarks.landmark\n",
    "            \n",
    "            # Get coordinates\n",
    "            r_shoulder = [landmarks[mp_pose.PoseLandmark.RIGHT_SHOULDER.value].x,landmarks[mp_pose.PoseLandmark.RIGHT_SHOULDER.value].y]\n",
    "            r_elbow = [landmarks[mp_pose.PoseLandmark.RIGHT_ELBOW.value].x,landmarks[mp_pose.PoseLandmark.RIGHT_ELBOW.value].y]\n",
    "            r_wrist = [landmarks[mp_pose.PoseLandmark.RIGHT_WRIST.value].x,landmarks[mp_pose.PoseLandmark.RIGHT_WRIST.value].y]\n",
    "            l_shoulder = [landmarks[mp_pose.PoseLandmark.LEFT_SHOULDER.value].x,landmarks[mp_pose.PoseLandmark.LEFT_SHOULDER.value].y]\n",
    "            l_elbow = [landmarks[mp_pose.PoseLandmark.LEFT_ELBOW.value].x,landmarks[mp_pose.PoseLandmark.LEFT_ELBOW.value].y]\n",
    "            l_wrist = [landmarks[mp_pose.PoseLandmark.LEFT_WRIST.value].x,landmarks[mp_pose.PoseLandmark.LEFT_WRIST.value].y]\n",
    "            \n",
    "            # Calculate angle\n",
    "            angle_14 = calculate_angle(r_shoulder, r_elbow, r_wrist)\n",
    "            angle_12 = calculate_angle(l_shoulder, r_shoulder, r_elbow)\n",
    "            angle_13 = calculate_angle(l_shoulder, l_elbow, l_wrist)\n",
    "            angle_11 = calculate_angle(r_shoulder, l_shoulder, l_elbow)\n",
    "\n",
    "            \n",
    "            # Visualize angle\n",
    "            cv2.putText(image, str(angle_14), tuple(np.multiply(r_elbow, [640, 480]).astype(int)), \n",
    "                           cv2.FONT_HERSHEY_SIMPLEX, 0.5, (255, 255, 255), 2, cv2.LINE_AA)\n",
    "            cv2.putText(image, str(angle_12), tuple(np.multiply(r_shoulder, [640, 480]).astype(int)), \n",
    "                           cv2.FONT_HERSHEY_SIMPLEX, 0.5, (255, 255, 255), 2, cv2.LINE_AA)\n",
    "            cv2.putText(image, str(angle_13), tuple(np.multiply(l_elbow, [640, 480]).astype(int)), \n",
    "                           cv2.FONT_HERSHEY_SIMPLEX, 0.5, (255, 255, 255), 2, cv2.LINE_AA)\n",
    "            cv2.putText(image, str(angle_11), tuple(np.multiply(l_shoulder, [640, 480]).astype(int)), \n",
    "                           cv2.FONT_HERSHEY_SIMPLEX, 0.5, (255, 255, 255), 2, cv2.LINE_AA)\n",
    "            \n",
    "            #Stage state logic\n",
    "            if (10 < angle_13 and angle_13 < 50) and (90 < angle_11 and angle_11 < 130):\n",
    "                if (170 < angle_14) and (150 < angle_12 and angle_12 < 170):\n",
    "                    stage = \"Ohayo!\"\n",
    "                if (100 < angle_14 and angle_14 < 130) and (120 < angle_12 and angle_12 < 130):\n",
    "                    stage = \"Konnichiwa!\"\n",
    "                if (40 > angle_14) and (100 < angle_12 and angle_12 < 130):\n",
    "                    stage = \"Oyasumi!\"\n",
    "            else:\n",
    "                stage = \"Ready\"\n",
    "                       \n",
    "        except:\n",
    "            pass\n",
    "        \n",
    "        # Setup status box\n",
    "        cv2.rectangle(image, (0,0), (225,73), (245,117,16), -1)\n",
    "        \n",
    "        # Stage data\n",
    "        cv2.putText(image, 'STAGE', (65,12), \n",
    "                    cv2.FONT_HERSHEY_SIMPLEX, 0.5, (0,0,0), 1, cv2.LINE_AA)\n",
    "        cv2.putText(image, stage, \n",
    "                    (60,60), \n",
    "                    cv2.FONT_HERSHEY_SIMPLEX, 2, (255,255,255), 2, cv2.LINE_AA)\n",
    "        \n",
    "        \n",
    "        # Render detections\n",
    "        mp_drawing.draw_landmarks(image, results.pose_landmarks, mp_pose.POSE_CONNECTIONS,\n",
    "                                mp_drawing.DrawingSpec(color=(245,117,66), thickness=2, circle_radius=2), \n",
    "                                mp_drawing.DrawingSpec(color=(245,66,230), thickness=2, circle_radius=2) \n",
    "                                 )               \n",
    "        \n",
    "        cv2.imshow('Mediapipe Feed', image)\n",
    "\n",
    "        if cv2.waitKey(10) & 0xFF == ord('q'):\n",
    "            break\n",
    "\n",
    "    cap.release()\n",
    "    cv2.destroyAllWindows()"
   ]
  },
  {
   "cell_type": "markdown",
   "id": "cf06a601",
   "metadata": {},
   "source": [
    "# Credits\n",
    "Terima kasih untuk [Nicholas Renotte](https://www.youtube.com/watch?v=06TE_U21FK4&ab_channel=NicholasRenotte) untuk ilmunya dan [Ella JKT48](https://twitter.com/AM_EllaJKT48) untuk inspirasinya"
   ]
  }
 ],
 "metadata": {
  "kernelspec": {
   "display_name": "Python 3 (ipykernel)",
   "language": "python",
   "name": "python3"
  },
  "language_info": {
   "codemirror_mode": {
    "name": "ipython",
    "version": 3
   },
   "file_extension": ".py",
   "mimetype": "text/x-python",
   "name": "python",
   "nbconvert_exporter": "python",
   "pygments_lexer": "ipython3",
   "version": "3.9.7"
  }
 },
 "nbformat": 4,
 "nbformat_minor": 5
}
